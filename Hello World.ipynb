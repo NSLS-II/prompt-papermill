{
 "cells": [
  {
   "cell_type": "markdown",
   "metadata": {},
   "source": [
    "# Hello World\n",
    "\n",
    "This is an example of a notebook that could be used with Prompt Papermill.\n",
    "\n",
    "Note that the cell below is \"tagged\" as described by https://papermill.readthedocs.io/en/latest/usage-parameterize.html#designate-parameters-for-a-cell. Papermill operates by finding the parameters cell and inserting a cell below it."
   ]
  },
  {
   "cell_type": "code",
   "execution_count": 1,
   "metadata": {
    "tags": [
     "parameters"
    ]
   },
   "outputs": [],
   "source": [
    "uid = '...'  # to be superseded by papermill, which will insert a cell below this one defining the uid of interest"
   ]
  },
  {
   "cell_type": "code",
   "execution_count": null,
   "metadata": {},
   "outputs": [],
   "source": [
    "from databroker import Broker\n",
    "db = Broker.named('jpls')\n",
    "header = db[uid]\n",
    "# From here, do useful stuff.\n",
    "# Typically, generate a \"side effect\" --- a figure saved as PNG or something."
   ]
  }
 ],
 "metadata": {
  "kernelspec": {
   "display_name": "Python 3",
   "language": "python",
   "name": "python3"
  },
  "language_info": {
   "codemirror_mode": {
    "name": "ipython",
    "version": 3
   },
   "file_extension": ".py",
   "mimetype": "text/x-python",
   "name": "python",
   "nbconvert_exporter": "python",
   "pygments_lexer": "ipython3",
   "version": "3.6.8"
  }
 },
 "nbformat": 4,
 "nbformat_minor": 2
}
